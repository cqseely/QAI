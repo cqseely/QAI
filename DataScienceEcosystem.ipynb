{
 "cells": [
  {
   "cell_type": "markdown",
   "id": "0145d0b6-72ea-4f10-9964-42664a1e615f",
   "metadata": {},
   "source": [
    "# Data Science Tools and Ecosystem "
   ]
  },
  {
   "cell_type": "markdown",
   "id": "1340d084-181d-468f-ab74-41b22e7eb09c",
   "metadata": {},
   "source": [
    "In this notebook, Data Science Tools and Ecosystem are summarized."
   ]
  },
  {
   "cell_type": "markdown",
   "id": "4a2eff1c-749f-45c4-8688-3b59563fc07e",
   "metadata": {},
   "source": [
    "**Objectives:**\n",
    "\n",
    "  - Know how to analyze data within a database using SQL\n",
    "- Learn how to access and interact with databases using Python\n",
    "- List popular languages for Data Science\n",
    "- Identify commonly used data science libraries and tools"
   ]
  },
  {
   "cell_type": "markdown",
   "id": "e971bfe8-6916-4a6f-8823-e683993035a4",
   "metadata": {},
   "source": [
    "Some of the popular languages that Data Scientists use are:\n",
    "1. Python\n",
    "2. R\n",
    "3. SQL\n",
    "4. Julia\n",
    "5. Java"
   ]
  },
  {
   "cell_type": "markdown",
   "id": "48e38e1b-5bd4-4e85-82cc-185525bd8e00",
   "metadata": {},
   "source": [
    "Some of the commonly used libraries used by Data Scientists include\n",
    "1. NumPy\n",
    "2. pandas\n",
    "3. scikit-learn\n",
    "4. Matplotlib\n",
    "5. TensorFlow"
   ]
  },
  {
   "cell_type": "markdown",
   "id": "c7de8739-927b-47ff-b303-a44df212176e",
   "metadata": {},
   "source": [
    "| Data Science Tools |\n",
    "|--------------------|\n",
    "| Jupyter Notebook |\n",
    "| R Studio |\n",
    "| Apache Spark |"
   ]
  },
  {
   "cell_type": "markdown",
   "id": "01c98540-e7b7-4412-8951-23bdfbf5d654",
   "metadata": {},
   "source": [
    "### Below are a few examples of arithmatic expressions in Python"
   ]
  },
  {
   "cell_type": "markdown",
   "id": "872cbbb0-9956-41a2-b271-3950c55a00fc",
   "metadata": {},
   "source": [
    "#### 2+7=9\n",
    "#### 3*8=24\n",
    "#### 9-4=5"
   ]
  },
  {
   "cell_type": "markdown",
   "id": "2ec496ab-57ea-4386-9f64-5610ba579499",
   "metadata": {},
   "source": [
    "This is a simple arithmetic expression to multiply then add integers"
   ]
  },
  {
   "cell_type": "code",
   "execution_count": 17,
   "id": "64e4fe67-fa9e-4e9f-905b-d0750510e36a",
   "metadata": {},
   "outputs": [
    {
     "data": {
      "text/plain": [
       "17"
      ]
     },
     "execution_count": 17,
     "metadata": {},
     "output_type": "execute_result"
    }
   ],
   "source": [
    "(3*4)+5"
   ]
  },
  {
   "cell_type": "markdown",
   "id": "f54068db-3065-4164-b9fc-b22c9fbc759c",
   "metadata": {},
   "source": [
    "This code will convert 200 minutes into hours by dividing by 60"
   ]
  },
  {
   "cell_type": "code",
   "execution_count": 20,
   "id": "e44025b8-76e4-4eec-b35f-26e3c6fdfc27",
   "metadata": {},
   "outputs": [
    {
     "data": {
      "text/plain": [
       "3.3333333333333335"
      ]
     },
     "execution_count": 20,
     "metadata": {},
     "output_type": "execute_result"
    }
   ],
   "source": [
    "minutes = 200\n",
    "hours = minutes / 60\n",
    "hours"
   ]
  },
  {
   "cell_type": "markdown",
   "id": "4d8d1c0c-4f8a-49c0-9f29-f532818d46d4",
   "metadata": {},
   "source": [
    "## Author"
   ]
  },
  {
   "cell_type": "markdown",
   "id": "a83735e9-3c9a-4f8c-9900-57ebfcd7ce34",
   "metadata": {},
   "source": [
    "Chet Seely"
   ]
  },
  {
   "cell_type": "code",
   "execution_count": null,
   "id": "aa035c9a-cd8b-40fd-b689-5cc306f0761b",
   "metadata": {},
   "outputs": [],
   "source": []
  }
 ],
 "metadata": {
  "kernelspec": {
   "display_name": "Python 3 (ipykernel)",
   "language": "python",
   "name": "python3"
  },
  "language_info": {
   "codemirror_mode": {
    "name": "ipython",
    "version": 3
   },
   "file_extension": ".py",
   "mimetype": "text/x-python",
   "name": "python",
   "nbconvert_exporter": "python",
   "pygments_lexer": "ipython3",
   "version": "3.12.7"
  }
 },
 "nbformat": 4,
 "nbformat_minor": 5
}
